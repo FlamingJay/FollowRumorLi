{
 "cells": [
  {
   "cell_type": "markdown",
   "metadata": {},
   "source": [
    "**基本介绍**\n",
    "\n",
    "FastText是Facebook公司2016年开源的项目，主要用于构建词向量和文本分类。FastText最大的优点是又快又好，因为本身结构非常简单，只有一层浅层网络，所以模型训练和线上预测的速度非常快，在普通的CPU上也能达到分钟级别的训练速度。不仅如此，在很多分类任务的标准数据集上模型效果也很不错。正因为速度非常快，并且模型效果还不错，所以在工业界应用范围很广。\n",
    "\n",
    "FastText主要用于**训练词向量和文本分类**任务。\n",
    "\n",
    "论文：Bag of Tricks for Efficient Text Classification"
   ]
  },
  {
   "cell_type": "markdown",
   "metadata": {},
   "source": [
    "**1、fastText与CBoW之间的关系?**\n",
    "\n",
    "\n",
    "\n",
    "fastText在训练词向量时，中为了将顺序信息，同时使用了word n-gram，即subWords作为输入，但由于n-gram过多，又采用buckets，所以fastText，输入矩阵的大小为 (N-Words + N-Buckets) * dim。\n",
    "\n",
    "训练词向量时，最终词向量的表示包括：词+word n-gram。\n",
    "\n"
   ]
  },
  {
   "cell_type": "code",
   "execution_count": null,
   "metadata": {},
   "outputs": [],
   "source": [
    "# 参考 https://heleifz.github.io/14732610572844.html\n",
    "\n",
    "void FastText::cbow(Model& model, real lr,\n",
    "                    const std::vector<int32_t>& line) {\n",
    "  std::vector<int32_t> bow;\n",
    "  std::uniform_int_distribution<> uniform(1, args_->ws);\n",
    "  \n",
    "  // 在一个句子中，每个词可以进行一次 update\n",
    "  for (int32_t w = 0; w < line.size(); w++) {\n",
    "    // 一个词的上下文长度是随机产生的\n",
    "    int32_t boundary = uniform(model.rng);\n",
    "    bow.clear();\n",
    "    // 以当前词为中心，将左右 boundary 个词加入 input\n",
    "    for (int32_t c = -boundary; c <= boundary; c++) {\n",
    "      // 当然，不能数组越界\n",
    "      if (c != 0 && w + c >= 0 && w + c < line.size()) {\n",
    "        // 实际被加入 input 的不止是词本身，还有词的 word n-gram\n",
    "        const std::vector<int32_t>& ngrams = dict_->getNgrams(line[w + c]);\n",
    "        bow.insert(bow.end(), ngrams.cbegin(), ngrams.cend());\n",
    "      }\n",
    "    }\n",
    "    // 完成一次 CBOW 更新\n",
    "    model.update(bow, line[w], lr);\n",
    "  }\n",
    "}\n",
    "\n",
    "void FastText::skipgram(Model& model, real lr,\n",
    "                        const std::vector<int32_t>& line) {\n",
    "  std::uniform_int_distribution<> uniform(1, args_->ws);\n",
    "  for (int32_t w = 0; w < line.size(); w++) {\n",
    "    // 一个词的上下文长度是随机产生的\n",
    "    int32_t boundary = uniform(model.rng);\n",
    "    // 采用 词+word n-gram 来预测这个词的上下文的所有的词\n",
    "    const std::vector<int32_t>& ngrams = dict_->getNgrams(line[w]);\n",
    "    // 在 skipgram 中，对上下文的每一个词分别更新一次模型\n",
    "    for (int32_t c = -boundary; c <= boundary; c++) {\n",
    "      if (c != 0 && w + c >= 0 && w + c < line.size()) {\n",
    "        model.update(ngrams, line[w + c], lr);\n",
    "      }\n",
    "    }\n",
    "  }\n",
    "}\n",
    "\n",
    "\n",
    "# 从上面skip-gram和cbow的c代码就能看出，skip-gram是每个context词都更新，故而对低频词更加敏感，训练效果更好。小数据集更容易过拟合。"
   ]
  },
  {
   "cell_type": "code",
   "execution_count": 5,
   "metadata": {},
   "outputs": [],
   "source": [
    "import fasttext\n",
    "import pandas as pd"
   ]
  },
  {
   "cell_type": "code",
   "execution_count": 36,
   "metadata": {},
   "outputs": [
    {
     "name": "stderr",
     "output_type": "stream",
     "text": [
      "/Users/wangjie/Anaconda/anaconda3/lib/python3.6/site-packages/ipykernel_launcher.py:3: SettingWithCopyWarning: \n",
      "A value is trying to be set on a copy of a slice from a DataFrame.\n",
      "Try using .loc[row_indexer,col_indexer] = value instead\n",
      "\n",
      "See the caveats in the documentation: https://pandas.pydata.org/pandas-docs/stable/user_guide/indexing.html#returning-a-view-versus-a-copy\n",
      "  This is separate from the ipykernel package so we can avoid doing imports until\n"
     ]
    },
    {
     "data": {
      "text/html": [
       "<div>\n",
       "<style scoped>\n",
       "    .dataframe tbody tr th:only-of-type {\n",
       "        vertical-align: middle;\n",
       "    }\n",
       "\n",
       "    .dataframe tbody tr th {\n",
       "        vertical-align: top;\n",
       "    }\n",
       "\n",
       "    .dataframe thead th {\n",
       "        text-align: right;\n",
       "    }\n",
       "</style>\n",
       "<table border=\"1\" class=\"dataframe\">\n",
       "  <thead>\n",
       "    <tr style=\"text-align: right;\">\n",
       "      <th></th>\n",
       "      <th>0</th>\n",
       "      <th>1</th>\n",
       "    </tr>\n",
       "  </thead>\n",
       "  <tbody>\n",
       "    <tr>\n",
       "      <th>0</th>\n",
       "      <td>2967 6758 339 2021 1854 3731 4109 3792 4149 15...</td>\n",
       "      <td>__label__2</td>\n",
       "    </tr>\n",
       "    <tr>\n",
       "      <th>1</th>\n",
       "      <td>4464 486 6352 5619 2465 4802 1452 3137 5778 54...</td>\n",
       "      <td>__label__11</td>\n",
       "    </tr>\n",
       "    <tr>\n",
       "      <th>2</th>\n",
       "      <td>7346 4068 5074 3747 5681 6093 1777 2226 7354 6...</td>\n",
       "      <td>__label__3</td>\n",
       "    </tr>\n",
       "    <tr>\n",
       "      <th>3</th>\n",
       "      <td>7159 948 4866 2109 5520 2490 211 3956 5520 549...</td>\n",
       "      <td>__label__2</td>\n",
       "    </tr>\n",
       "    <tr>\n",
       "      <th>4</th>\n",
       "      <td>3646 3055 3055 2490 4659 6065 3370 5814 2465 5...</td>\n",
       "      <td>__label__3</td>\n",
       "    </tr>\n",
       "    <tr>\n",
       "      <th>...</th>\n",
       "      <td>...</td>\n",
       "      <td>...</td>\n",
       "    </tr>\n",
       "    <tr>\n",
       "      <th>2995</th>\n",
       "      <td>600 2448 5510 4333 431 5858 6574 2602 6822 442...</td>\n",
       "      <td>__label__2</td>\n",
       "    </tr>\n",
       "    <tr>\n",
       "      <th>2996</th>\n",
       "      <td>4302 2799 5724 6227 4302 4145 2465 6962 5393 1...</td>\n",
       "      <td>__label__0</td>\n",
       "    </tr>\n",
       "    <tr>\n",
       "      <th>2997</th>\n",
       "      <td>7154 4893 3686 5192 1215 7292 2602 2685 3659 2...</td>\n",
       "      <td>__label__8</td>\n",
       "    </tr>\n",
       "    <tr>\n",
       "      <th>2998</th>\n",
       "      <td>2799 3370 3370 6242 2226 1919 2465 88 1999 289...</td>\n",
       "      <td>__label__0</td>\n",
       "    </tr>\n",
       "    <tr>\n",
       "      <th>2999</th>\n",
       "      <td>623 60 3021 5486 2444 3430 3310 1832 2218 3479...</td>\n",
       "      <td>__label__8</td>\n",
       "    </tr>\n",
       "  </tbody>\n",
       "</table>\n",
       "<p>3000 rows × 2 columns</p>\n",
       "</div>"
      ],
      "text/plain": [
       "                                                      0            1\n",
       "0     2967 6758 339 2021 1854 3731 4109 3792 4149 15...   __label__2\n",
       "1     4464 486 6352 5619 2465 4802 1452 3137 5778 54...  __label__11\n",
       "2     7346 4068 5074 3747 5681 6093 1777 2226 7354 6...   __label__3\n",
       "3     7159 948 4866 2109 5520 2490 211 3956 5520 549...   __label__2\n",
       "4     3646 3055 3055 2490 4659 6065 3370 5814 2465 5...   __label__3\n",
       "...                                                 ...          ...\n",
       "2995  600 2448 5510 4333 431 5858 6574 2602 6822 442...   __label__2\n",
       "2996  4302 2799 5724 6227 4302 4145 2465 6962 5393 1...   __label__0\n",
       "2997  7154 4893 3686 5192 1215 7292 2602 2685 3659 2...   __label__8\n",
       "2998  2799 3370 3370 6242 2226 1919 2465 88 1999 289...   __label__0\n",
       "2999  623 60 3021 5486 2444 3430 3310 1832 2218 3479...   __label__8\n",
       "\n",
       "[3000 rows x 2 columns]"
      ]
     },
     "execution_count": 36,
     "metadata": {},
     "output_type": "execute_result"
    }
   ],
   "source": [
    "data = pd.read_csv(\"../DataSet/fasttext_train_set.csv\", sep=\"\\t\").iloc[:4000]\n",
    "train = data.iloc[:3000]\n",
    "train['label_ft'] = '__label__' + train['label'].astype(str)\n",
    "train[['text', 'label_ft']].to_csv('train.csv', index=None, header=None, sep='\\t')\n",
    "test = data.iloc[3000:]\n",
    "\n",
    "pd.read_csv('train.csv', header=None, sep='\\t')"
   ]
  },
  {
   "cell_type": "code",
   "execution_count": 42,
   "metadata": {},
   "outputs": [
    {
     "data": {
      "text/plain": [
       "[['__label__0'], ['__label__1'], ['__label__1']]"
      ]
     },
     "execution_count": 42,
     "metadata": {},
     "output_type": "execute_result"
    }
   ],
   "source": [
    "# 文本分类\n",
    "model = fasttext.train_supervised(input='train.csv', label_prefix='__label__',\n",
    "                                         epoch=10, dim=32, lr=0.1, loss='softmax', word_ngrams=2, \n",
    "                                          min_count=2, bucket=1000000)\n",
    "test_data = test['text'].values.tolist()\n",
    "model.predict(test_data)[0][:3]"
   ]
  },
  {
   "cell_type": "code",
   "execution_count": 44,
   "metadata": {},
   "outputs": [],
   "source": [
    "# 训练词向量\n",
    "embed_model = fasttext.train_unsupervised(input='train.csv', model='cbow', min_count=2, dim=32, ws=3)"
   ]
  },
  {
   "cell_type": "code",
   "execution_count": 50,
   "metadata": {},
   "outputs": [
    {
     "data": {
      "text/plain": [
       "array([ 0.33897159, -0.7122523 ,  0.07081984, -0.16943555,  0.9051555 ,\n",
       "       -0.20676735, -0.31139496, -0.34154943, -0.9285196 ,  0.13740878,\n",
       "       -0.83647037,  0.16830571,  0.04207527, -0.43230844,  0.13847707,\n",
       "       -0.16509397,  0.0680689 , -0.01457736,  0.44141197,  0.47386608,\n",
       "        0.43244776,  1.1654117 , -0.72536886,  0.69115084, -0.7064338 ,\n",
       "        0.2890822 , -0.1784637 , -1.0929071 ,  1.5237536 ,  0.7414258 ,\n",
       "        0.29959834,  1.4486113 ], dtype=float32)"
      ]
     },
     "execution_count": 50,
     "metadata": {},
     "output_type": "execute_result"
    }
   ],
   "source": [
    "embed_model['6640']"
   ]
  },
  {
   "cell_type": "code",
   "execution_count": null,
   "metadata": {},
   "outputs": [],
   "source": []
  }
 ],
 "metadata": {
  "kernelspec": {
   "display_name": "Python 3",
   "language": "python",
   "name": "python3"
  },
  "language_info": {
   "codemirror_mode": {
    "name": "ipython",
    "version": 3
   },
   "file_extension": ".py",
   "mimetype": "text/x-python",
   "name": "python",
   "nbconvert_exporter": "python",
   "pygments_lexer": "ipython3",
   "version": "3.6.10"
  }
 },
 "nbformat": 4,
 "nbformat_minor": 4
}
